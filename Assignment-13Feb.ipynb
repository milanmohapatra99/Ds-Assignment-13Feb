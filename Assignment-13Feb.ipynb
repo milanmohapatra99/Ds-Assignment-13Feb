{
 "cells": [
  {
   "cell_type": "markdown",
   "id": "42b26bda-1154-4256-b350-29a58e4c054f",
   "metadata": {},
   "source": [
    "Que:1. Explain Why We have to use the Exception class while creating a Custom Exception."
   ]
  },
  {
   "cell_type": "markdown",
   "id": "57d975c4-02a7-4fa6-a96d-61f967f233dc",
   "metadata": {},
   "source": [
    "Ans : Built-in exceptions offer information about Python-related problems, and Custom exceptions will add information about project-related problems. That way,\n",
    "we can design our own code (and traceback, if an exception is raised) in a way that combines Python code with the language of the project.\n",
    "\n",
    "Custom exceptions provide you the flexibility to add attributes . These can store additional information, like an application-specific error code, \n",
    "or provide utility methods that can be used to handle or present the exception to a user.\n",
    "\n",
    "some example of custom error are:-\n",
    "Some of the standard exceptions which are most frequent include IndexError, ImportError, IOError, ZeroDivisionError, TypeError, and FileNotFoundError."
   ]
  },
  {
   "cell_type": "markdown",
   "id": "a7eecada-5fbb-43d4-a0ae-3c6efed94085",
   "metadata": {},
   "source": [
    "Que:2. Write a python program to print python Exception Hierachy."
   ]
  },
  {
   "cell_type": "code",
   "execution_count": null,
   "id": "51eb5b7c-88e1-476d-87d7-2c4bb352c406",
   "metadata": {},
   "outputs": [],
   "source": [
    "# import inspect module\n",
    "import inspect\n",
    "\n",
    "# our treeClass function\n",
    "def treeClass(cls, ind = 0):\n",
    "\t\n",
    "\t# print name of the class\n",
    "\tprint ('-' * ind, cls.__name__)\n",
    "\t\n",
    "\t# iterating through subclasses\n",
    "\tfor i in cls.__subclasses__():\n",
    "\t\ttreeClass(i, ind + 3)\n",
    "\n",
    "print(\"Hierarchy for Built-in exceptions is : \")\n",
    "\n",
    "# inspect.getmro() Return a tuple\n",
    "# of class cls’s base classes.\n",
    "\n",
    "# building a tree hierarchy\n",
    "inspect.getclasstree(inspect.getmro(BaseException))\n",
    "\n",
    "# function call\n",
    "treeClass(BaseException)\n"
   ]
  },
  {
   "cell_type": "markdown",
   "id": "aec10a81-3201-4ef0-9871-c6985009cabd",
   "metadata": {},
   "source": [
    "Que:3. What errors are defined in the ArihmeticError class?Explain any two with an example."
   ]
  },
  {
   "cell_type": "markdown",
   "id": "83a27657-d6f1-4b25-a215-e319efce73a9",
   "metadata": {},
   "source": [
    "Ans:The base class for those built-in exceptions that are raised for various arithmetic errors such as :\n",
    "1- OverflowError\n",
    "2- ZeroDivisionError\n",
    "3- FloatingPointError\n",
    "\n",
    "ZeroDivisionError:-\n",
    "A ZeroDivisionError is raised when we try to divide by 0. \n",
    "\n",
    "Example:-\n",
    "#integers\n",
    "1/0\n",
    "\n",
    ">>> ZeroDivisionError: division by zero\n",
    "\n",
    "#floats\n",
    "5.3/0\n",
    "\n",
    ">>> ZeroDivisionError: float division by zero\n",
    "\n",
    "#complex numbers\n",
    "(1+2j)/0\n",
    "\n",
    ">>> ZeroDivisionError: complex division by zero\n",
    "\n",
    "\n",
    "\n",
    "FloatingPointError:- \n",
    "\n",
    "FloatingPointError is raised by floating point operations that result in errors, when floating point exception control (fpectl) is turned on. \n",
    "Enabling fpectl requires an interpreter compiled with the --with-fpectl flag.\n",
    "\n",
    "Example:-\n",
    "\n",
    "import sys\n",
    "import math\n",
    "import fpectl\n",
    "try:\n",
    "print 'Control off:', math.exp(700)\n",
    "fpectl.turnon_sigfpe()\n",
    "print 'Control on:', math.exp(1000)\n",
    "except Exception as e:\n",
    "print e\n",
    "print sys.exc_type\n",
    "\n",
    "o/p:-\n",
    "\n",
    "\n",
    "Control off: 1.01423205474e+304\n",
    "Control on: in math_1\n",
    "<type 'exceptions.FloatingPointError'>\n",
    "\n"
   ]
  },
  {
   "cell_type": "markdown",
   "id": "9d8066b7-e617-4a02-ae29-28f0f2e82953",
   "metadata": {},
   "source": [
    "Que:4. Why LookupError class is used?Explain With an example KeyError and IndexError."
   ]
  },
  {
   "cell_type": "markdown",
   "id": "6314a19b-877a-4f54-bd3a-91315bb1e5d7",
   "metadata": {},
   "source": [
    "Ans: Lookup Error acts as a base class for the exceptions that occur when a key or index used on a mapping or sequence of a list/dictionary is invalid or does not exists.\n",
    "\n",
    "By using LookupError exception class to handle both IndexError and KeyError exception classes.\n",
    "\n",
    " Handling IndexError exception:\n",
    "        \n",
    "# lists\n",
    "x = [1, 2, 3, 4]\n",
    "try:\n",
    "    print(x[10])\n",
    "except LookupError as e:\n",
    "    print(f\"{e}, {e.__class__}\")\n",
    "\n",
    ">>> list index out of range, <class 'IndexError'>\n",
    "\n",
    "# strings\n",
    "x = \"Pylenin\"\n",
    "try:\n",
    "    print(x[10])\n",
    "except LookupError as e:\n",
    "    print(f\"{e}, {e.__class__}\")\n",
    "\n",
    ">>> string index out of range, <class 'IndexError'>    \n",
    "    \n",
    "# tuples\n",
    "x = (1, 2, 3, 4)\n",
    "try:\n",
    "    print(x[10])\n",
    "except LookupError as e:\n",
    "    print(f\"{e}, {e.__class__}\")\n",
    "\n",
    ">>> tuple index out of range, <class 'IndexError'>\n",
    "\n",
    "\n",
    "\n",
    "Handling KeyError exception :\n",
    "    \n",
    "ds_info = {'name': 'Milan Mohapatra',\n",
    "                'age': 28,\n",
    "                'language': 'Python'}\n",
    "user_input = input('What do you want to learn about Datascience==> ')\n",
    "\n",
    "try:\n",
    "    print(f'{user_input} is {ds_info[user_input]}')\n",
    "except LookupError as e:\n",
    "    print(f'{e}, {e.__class__}')\n",
    "    \n",
    "    \n",
    "\n",
    "\n",
    "Output:\n",
    "\n",
    "What do you want to learn about Datascience==> mahinelearning\n",
    "'mahinelearning', <class 'KeyError'>\n",
    "\n",
    "\n",
    "\n",
    "\n",
    "\n",
    "\n",
    "\n"
   ]
  },
  {
   "cell_type": "markdown",
   "id": "e905b734-5937-43e8-a21b-084dccc05e06",
   "metadata": {},
   "source": [
    "Que:5. Explain ImportError.What is ModuleNotFoundError?"
   ]
  },
  {
   "cell_type": "markdown",
   "id": "dc438763-d6b4-4fa5-bb5c-a5211795799f",
   "metadata": {},
   "source": [
    "Ans: import error: \n",
    "ImportError occurs when the Python program tries to import module which does not exist in the private table. \n",
    "\n",
    "or:\n",
    "    \n",
    "ImportError is raised when a module, or member of a module, cannot be imported.\n",
    "\n",
    "ModuleNotFoundError:\n",
    "        \n",
    "A ModuleNotFoundError is raised when Python cannot successfully import a module.\n",
    "\n",
    "\n"
   ]
  },
  {
   "cell_type": "markdown",
   "id": "b5139b66-ccbc-4291-a607-a1d15a0bbed2",
   "metadata": {},
   "source": [
    "Que:6. List down some best pratices for exception handling in python."
   ]
  },
  {
   "cell_type": "markdown",
   "id": "450fab8e-fbea-4039-8bd9-815846baa4cd",
   "metadata": {},
   "source": [
    "Ans : There are few list to handle exeption:\n",
    "    \n",
    "1- try-except-finally\n",
    "\n",
    "2- Raise an exception\n",
    "\n",
    "3-Exception chaining\n",
    "\n",
    "4- Built-in exception\n",
    "\n",
    "5- Custom exception\n"
   ]
  }
 ],
 "metadata": {
  "kernelspec": {
   "display_name": "Python 3 (ipykernel)",
   "language": "python",
   "name": "python3"
  },
  "language_info": {
   "codemirror_mode": {
    "name": "ipython",
    "version": 3
   },
   "file_extension": ".py",
   "mimetype": "text/x-python",
   "name": "python",
   "nbconvert_exporter": "python",
   "pygments_lexer": "ipython3",
   "version": "3.10.6"
  }
 },
 "nbformat": 4,
 "nbformat_minor": 5
}
